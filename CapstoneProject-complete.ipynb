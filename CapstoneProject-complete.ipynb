{
 "cells": [
  {
   "cell_type": "markdown",
   "metadata": {},
   "source": [
    "# Capstone Project: Clustering of New York neighborhoods for an Election Campaign"
   ]
  },
  {
   "cell_type": "markdown",
   "metadata": {},
   "source": [
    "**Note:**\n",
    "This notebook will only contain the write-up. All the code and the visualizations are in the CapstoneCode.ipynb."
   ]
  },
  {
   "cell_type": "markdown",
   "metadata": {},
   "source": [
    "## Introduction/Business Problem:"
   ]
  },
  {
   "cell_type": "markdown",
   "metadata": {},
   "source": [
    "A prospective governor candidate is preparing for his election campaign. Although everyone has an idea of how the New York neighborhoods are, he wants to actually see the data and have a factual basis. He wants to know what neighborhoods are alike, so they can target them not only together but better. The messaging can be the same for neighborhoods that have the same types of places where residents hang out. They want to know that if a certain neighborhood has more parks, the residents there must value the outdoors and would the campaign should have a stronger stance on protecting the environment. If a certain neighborhood has a concentration of universities, then there must be stronger message on what the candidate can do for education. "
   ]
  },
  {
   "cell_type": "markdown",
   "metadata": {},
   "source": [
    "## Data"
   ]
  },
  {
   "cell_type": "markdown",
   "metadata": {},
   "source": [
    "To address the business problem, we would use the New York neighborhood data and merge it with the Foursquare data. The New York neighborhood data would provide us with the neighborhood name, the boroughs, latitude and longitude. From Foursquare, we can get venues information like the venue names and categories. These would help us cluster the neighborhoods and have an idea on how we could provide better messaging for specific clusters. \n",
    "\n",
    "For this project, the analysis will focus on New York City and its 5 boroughs."
   ]
  },
  {
   "cell_type": "markdown",
   "metadata": {},
   "source": [
    "## Methodology"
   ]
  },
  {
   "cell_type": "markdown",
   "metadata": {},
   "source": [
    "First, we downloaded the necessary packages that will enable us to do data processing, map rendering and machine learning. Some of the packages that we have imported are **pandas, json, geocoder, and folium.**"
   ]
  },
  {
   "cell_type": "markdown",
   "metadata": {},
   "source": [
    "The New York City neighborhood data was taken from https://geo.nyu.edu/catalog/nyu_2451_34572. Once the data was loaded, we looked into the columns and the data types to determine which ones would be relevant to the study. The Features section contains the relevant information (neighborhood, borough, latitude and longitude), so we make sure to extract this portion instead of using the whole dataset. "
   ]
  },
  {
   "cell_type": "markdown",
   "metadata": {},
   "source": [
    "We then use the loaded data and transformed it into a dataframe. To get the coordinates of New York City, we used the geocoder. We needed to get the coordinates to make sure that the map that we will be creating would be centered on NYC. "
   ]
  },
  {
   "cell_type": "markdown",
   "metadata": {},
   "source": [
    "Using the latitude and longitude coordinates, we mapped out all the neighborhoods of New York City. This was done using the package **Folium**. "
   ]
  },
  {
   "cell_type": "markdown",
   "metadata": {},
   "source": [
    "Since the focus of the governor's campaign is to understand the whole city, we didn't do any other filtering. Every neighborhood in NYC was included and mapped. "
   ]
  },
  {
   "cell_type": "markdown",
   "metadata": {},
   "source": [
    "The **Foursquare API** was used to get the venues in each neighborhood. A limit of 100 was set, so the maximum total of venues associated to each neighborhood will be 100. Only venues in the range of radius = 500 would be included. "
   ]
  },
  {
   "cell_type": "markdown",
   "metadata": {},
   "source": [
    "The most important venue data that we used in this study is the venue category. We computed for the frequency of each venue category in each neighborhood and showed the top 10 most common categories in that area. These would be the basis in doing the neighborhood clustering. "
   ]
  },
  {
   "cell_type": "markdown",
   "metadata": {},
   "source": [
    "We used the **K-means Clustering** machine learning algorithm to cluster the neighborhoods. We set the number of clusters to **7**. We were then able to get 7 clusters of neighborhoods and provided description that would differentiate the clusters from each other.  "
   ]
  },
  {
   "cell_type": "markdown",
   "metadata": {},
   "source": [
    "## Results"
   ]
  },
  {
   "cell_type": "markdown",
   "metadata": {},
   "source": [
    "Based on our data and using K-means clustering, we have obtained 7 neighborhood clusters that have distinct characteristics: "
   ]
  },
  {
   "cell_type": "markdown",
   "metadata": {},
   "source": [
    "### Cluster 1: Quaint neighborhoods with concentrations of immigrants (e.g. Filipino, Middle Eastern)"
   ]
  },
  {
   "cell_type": "markdown",
   "metadata": {},
   "source": [
    "**Neighborhood Count**: 3"
   ]
  },
  {
   "cell_type": "markdown",
   "metadata": {},
   "source": [
    "These are neighborhoods with quaint venues like bubble tea shops, farms, field, and flower shops. Filipino and Middle Eastern restaurants are also popular from which we can infer that there is a customer base for those types of cuisines in that area. "
   ]
  },
  {
   "cell_type": "markdown",
   "metadata": {},
   "source": [
    "**Possible campaign recommendation**:\n",
    "Possible campaign topics could be centered on gentrification and immigration. "
   ]
  },
  {
   "cell_type": "markdown",
   "metadata": {},
   "source": [
    "### Cluster 2: Culture centers with diverse restaurants, art, and transportation"
   ]
  },
  {
   "cell_type": "markdown",
   "metadata": {},
   "source": [
    "**Neighborhood Count**: 191"
   ]
  },
  {
   "cell_type": "markdown",
   "metadata": {},
   "source": [
    "This is the largest cluster. The collection of venue categories in this cluster is vast. There is a diversity of restaurant types, museums and transportation. Just from looking at the most common venue categories, these might be the cultural centers/entertainment centers. "
   ]
  },
  {
   "cell_type": "markdown",
   "metadata": {},
   "source": [
    "**Possible campaign recommendation**:\n",
    "Campaign must focus on diversity, the arts, and employment issues. Since these clusters are centers of business, the governor must also make sure that he conveys his plans for the economy. "
   ]
  },
  {
   "cell_type": "markdown",
   "metadata": {},
   "source": [
    "### Cluster 3: Areas near Bus Stops and markets"
   ]
  },
  {
   "cell_type": "markdown",
   "metadata": {},
   "source": [
    "**Neighborhood Count**: 10"
   ]
  },
  {
   "cell_type": "markdown",
   "metadata": {},
   "source": [
    "These are neighborhoods where the most common venues are bus stops and farmer's markets. There are definitely still in the city, but probably not in the tourist-centered areas. "
   ]
  },
  {
   "cell_type": "markdown",
   "metadata": {},
   "source": [
    "**Possible campaign recommendation**: Have to discuss transportation issues (e.g. traffic issues, fare). Can also discuss nutrition since this area might be more concerned about food and health> \n"
   ]
  },
  {
   "cell_type": "markdown",
   "metadata": {},
   "source": [
    "### Cluster 4: Melting pot, foodie paradise"
   ]
  },
  {
   "cell_type": "markdown",
   "metadata": {},
   "source": [
    "**Neighborhood Count**: 94"
   ]
  },
  {
   "cell_type": "markdown",
   "metadata": {},
   "source": [
    "This can be similar to Cluster 2 but with a stronger concentration in restaurants. These are neighborhoods where people eat and congregate among each other. "
   ]
  },
  {
   "cell_type": "markdown",
   "metadata": {},
   "source": [
    "**Possible campaign recommendation**: Immigration, employment, and urban issues would be good topics for this cluster.\n"
   ]
  },
  {
   "cell_type": "markdown",
   "metadata": {},
   "source": [
    "### Cluster 5: More suburban places near parks and playgrounds"
   ]
  },
  {
   "cell_type": "markdown",
   "metadata": {},
   "source": [
    "**Neigborhood Count**: 4"
   ]
  },
  {
   "cell_type": "markdown",
   "metadata": {},
   "source": [
    "This cluster is composed of neighborhoods with concentration of parks and playgrounds. From that information, we can infer that these are more suburban places, with amenities catering more to families. "
   ]
  },
  {
   "cell_type": "markdown",
   "metadata": {},
   "source": [
    "**Possible campaign recommendation**: From our hypothesis, these neighborhoods will be mainly comprised of families, so issues like maternity leaves, healthcare, and education would be good bets to attract voters.\n"
   ]
  },
  {
   "cell_type": "markdown",
   "metadata": {},
   "source": [
    "### Cluster 6: Areas near wide open spaces, not city centers"
   ]
  },
  {
   "cell_type": "markdown",
   "metadata": {},
   "source": [
    "**Neighborhood Count**: 2"
   ]
  },
  {
   "cell_type": "markdown",
   "metadata": {},
   "source": [
    "The two neighborhoods in this cluster have unusual common venue categories: lake and farm. We can assume that these are far from the city center and would be more quiet than Clusters 2 and 4. "
   ]
  },
  {
   "cell_type": "markdown",
   "metadata": {},
   "source": [
    "**Possible campaign recommendation**: Environmental and energy issues would be good topics since these would be priorities for this cluster. \n"
   ]
  },
  {
   "cell_type": "markdown",
   "metadata": {},
   "source": [
    "### Cluster 7: Coastal area"
   ]
  },
  {
   "cell_type": "markdown",
   "metadata": {},
   "source": [
    "**Neighborhood Count**: 1"
   ]
  },
  {
   "cell_type": "markdown",
   "metadata": {},
   "source": [
    "There is only one neighborhood in this cluster. The most common venue is a beach, so we can assume that this is more of a coastal area and would have different priorities than the other clusters. "
   ]
  },
  {
   "cell_type": "markdown",
   "metadata": {},
   "source": [
    "**Possible campaign recommendation**: Disaster prevention and climate change would be priorities in this area because they are more prone to floods. \n"
   ]
  },
  {
   "cell_type": "markdown",
   "metadata": {},
   "source": [
    "## Discussion"
   ]
  },
  {
   "cell_type": "markdown",
   "metadata": {},
   "source": [
    "The recommendations for the campaign are noted with the results. From this clustering exercise, we are able to determine characteristics of neighborhood clusters. Knowing these characteristics, we are able to provide very specific campaign topics that the candidate can focus on. This analysis could be improved by incorporating data like population data and election data (e.g. voter turnout on previous elections). This analysis could also be imprpo"
   ]
  },
  {
   "cell_type": "markdown",
   "metadata": {},
   "source": [
    "## Conclusion"
   ]
  },
  {
   "cell_type": "markdown",
   "metadata": {},
   "source": [
    "With the use of location and venue data, we can enable a political candidate to learn more about their potential constituents to conduct a better campaign and to better plan for governing. "
   ]
  }
 ],
 "metadata": {
  "kernelspec": {
   "display_name": "Python 3",
   "language": "python",
   "name": "python3"
  },
  "language_info": {
   "codemirror_mode": {
    "name": "ipython",
    "version": 3
   },
   "file_extension": ".py",
   "mimetype": "text/x-python",
   "name": "python",
   "nbconvert_exporter": "python",
   "pygments_lexer": "ipython3",
   "version": "3.6.8"
  }
 },
 "nbformat": 4,
 "nbformat_minor": 2
}
