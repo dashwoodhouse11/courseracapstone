{
 "cells": [
  {
   "cell_type": "markdown",
   "metadata": {},
   "source": [
    "# Capstone Project: Clustering of New York neighborhoods for an Election Campaign"
   ]
  },
  {
   "cell_type": "markdown",
   "metadata": {},
   "source": [
    "## Introduction/Business Problem:"
   ]
  },
  {
   "cell_type": "markdown",
   "metadata": {},
   "source": [
    "A prospective governor candidate is preparing for his election campaign. Although everyone has an idea of how the New York neighborhoods are, he wants to actually see the data and have a factual basis. He wants to know what neighborhoods are alike, so they can target them not only together but better. The messaging can be the same for neighborhoods that have the same types of places where residents hang out. They want to know that if a certain neighborhood has more parks, the residents there must value the outdoors and would the campaign should have a stronger stance on protecting the environment. If a certain neighborhood has a concentration of universities, then there must be stronger message on what the candidate can do for education. "
   ]
  },
  {
   "cell_type": "markdown",
   "metadata": {},
   "source": [
    "## Data"
   ]
  },
  {
   "cell_type": "markdown",
   "metadata": {},
   "source": [
    "To address the business problem, we would use the New York neighborhood data and merge it with the Foursquare data. The New York neighborhood data would provide us with the postal codes of the neighborhoods, the neighborhood name, and the boroughs. From Foursquare, we can get venues information like the venue names and categories. These would help us cluster the neighborhoods and have an idea on how we could provide better messaging for specific clusters. "
   ]
  },
  {
   "cell_type": "code",
   "execution_count": null,
   "metadata": {},
   "outputs": [],
   "source": []
  }
 ],
 "metadata": {
  "kernelspec": {
   "display_name": "Python 3",
   "language": "python",
   "name": "python3"
  },
  "language_info": {
   "codemirror_mode": {
    "name": "ipython",
    "version": 3
   },
   "file_extension": ".py",
   "mimetype": "text/x-python",
   "name": "python",
   "nbconvert_exporter": "python",
   "pygments_lexer": "ipython3",
   "version": "3.6.8"
  }
 },
 "nbformat": 4,
 "nbformat_minor": 2
}
